{
 "cells": [
  {
   "cell_type": "code",
   "execution_count": 1,
   "id": "6a1f0771",
   "metadata": {},
   "outputs": [],
   "source": [
    "import requests\n",
    "from bs4 import BeautifulSoup\n",
    "import pandas as pd"
   ]
  },
  {
   "cell_type": "code",
   "execution_count": 2,
   "id": "fbc9cba1",
   "metadata": {},
   "outputs": [
    {
     "name": "stdout",
     "output_type": "stream",
     "text": [
      "蘋果焦點\n",
      "草莓牛奶憂鬱自殺31歲斷魂 AV女優不倫戀被甩\n",
      "曾憂「打疫苗死掉」！他注射莫德納後竟倒地亡　高雄65歲男病史曝光\n",
      "福原愛絕情不見小孩不要媽　崩壞原因竟是「這兩人」造成的\n",
      "北車地下街職場群聚確診！超商、速食店、手搖飲店員都中招　K區全封\n",
      "高雄65歲男打莫德納後猝死　高大成：解剖看這裡就知死因\n",
      "彰化31歲男染疫！感染源不明　確診前曾到南部旅遊足跡曝光\n",
      "侵台變異株已有6款！這一種最兇　台積電華儲等7大群聚都它害的\n",
      "駭人！爸爸為了追女友　竟將兩子女扔下15樓殺害\n",
      "女騙醫生「第一次打疫苗」　一個月內接種3針\n",
      "\n",
      "-----------\n",
      "\n",
      "自由熱門\n",
      "紓困再加碼！投保薪資2.4萬元以上 勞工有條件領1萬元\n",
      "890.31萬劑疫苗來了！接種順序、時程、線上預約方式一次看\n",
      "各地「微解封」措施一次看 全國僅澎湖餐飲可內用\n",
      "馬路排氣孔釣魚超狂！他一晚可釣40尾鰻魚、連紅蟳也有\n",
      "驚爆內幕！中國復星靠售台BNT狂賺23億多台幣\n",
      "疾呼趕快打AZ！花蓮縣衛生局長：莫德納像是魔鬼圈套\n",
      "MLB》「我開不了口！」 大谷翔平神回覆感動小葛雷諾\n",
      "新聞360》藍營BNT團購爆自家人跳船  他怒揭江啟臣背後算計\n",
      "內有重量級名人？18人群聚頂級villa案業者致歉 但不透露個資\n",
      "中國奧運隊服被笑翻   從里約奧運的番茄炒蛋晉升成馬戲團制服\n",
      "歐盟出手相助 斯洛伐克贈台灣1萬劑疫苗\n",
      "這裡不是北京！ 報導新疆遭中國大使館威脅 法媒強硬反擊\n",
      "溫網》被爆假球案！ 1場男單、1場男雙接受調查\n",
      "自曝打到安慰劑 陳建仁挺國產疫苗：參加銜接計畫補打高端\n",
      "蘇慧倫45歲喜獲麟兒！心疼疫情下顱顏兒手術延宕\n",
      "高雄第2例打莫德納猝死！65歲男早上打 晚上倒地送醫不治\n",
      "屏東綠鬣蜥危害農作物 農民找人把「大本營」芒果樹砍除\n",
      "台海軍情》793「海龍」潛艦港內升起潛望鏡  2022年完成性能提升\n",
      "MLB》這位全明星將被交易... 大聯盟官網估7球員會換東家\n",
      "先打先贏！64萬人變心不再獨鍾莫德納 339.5萬人願打AZ\n"
     ]
    }
   ],
   "source": [
    "if __name__ == '__main__':\n",
    "    print('蘋果焦點')\n",
    "    dom = requests.get('https://tw.appledaily.com/daily/hot/').text\n",
    "    soup = BeautifulSoup(dom, 'html5lib')\n",
    "    rows = soup.find_all('div', 'flex-feature')\n",
    "    for ele in rows:\n",
    "        print(\n",
    "            ele.find('span', 'headline truncate truncate--3').text,\n",
    "        )\n",
    "    print('\\n-----------\\n')\n",
    "    print('自由熱門')\n",
    "    dom = requests.get('https://news.ltn.com.tw/list/breakingnews/popular').text\n",
    "    soup = BeautifulSoup(dom, 'html5lib')\n",
    "    for ele in soup.find('ul', 'list').find_all('li'):\n",
    "        if ele.find('a', 'tit'):\n",
    "            print(ele.find('span', 'title').text)\n"
   ]
  },
  {
   "cell_type": "code",
   "execution_count": null,
   "id": "01fe8edb",
   "metadata": {},
   "outputs": [],
   "source": []
  }
 ],
 "metadata": {
  "kernelspec": {
   "display_name": "Python 3 (ipykernel)",
   "language": "python",
   "name": "python3"
  },
  "language_info": {
   "codemirror_mode": {
    "name": "ipython",
    "version": 3
   },
   "file_extension": ".py",
   "mimetype": "text/x-python",
   "name": "python",
   "nbconvert_exporter": "python",
   "pygments_lexer": "ipython3",
   "version": "3.8.10"
  }
 },
 "nbformat": 4,
 "nbformat_minor": 5
}

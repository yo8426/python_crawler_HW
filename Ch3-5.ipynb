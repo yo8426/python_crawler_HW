{
 "cells": [
  {
   "cell_type": "code",
   "execution_count": 1,
   "id": "497535da",
   "metadata": {},
   "outputs": [],
   "source": [
    "import requests\n",
    "from bs4 import BeautifulSoup"
   ]
  },
  {
   "cell_type": "code",
   "execution_count": 2,
   "id": "82e3a440",
   "metadata": {},
   "outputs": [
    {
     "name": "stdout",
     "output_type": "stream",
     "text": [
      "https://tw.dictionary.search.yahoo.com/search?p=QUERY\n",
      "n. 質問；詢問；疑問[C]；（用以提出問題）請問[U] \n",
      "vt. 問；詢問[+wh-]；對……表示疑問[+wh-] \n",
      "vi. 詢問；表示懷疑 \n",
      "https://tw.dictionary.search.yahoo.com/search?p=good+at\n",
      "ph. 精於, 擅長 \n",
      "https://tw.dictionary.search.yahoo.com/search?p=傳統\n",
      "conventions; traditions \n"
     ]
    }
   ],
   "source": [
    "w_num=3\n",
    "w0='QUERY'\n",
    "w1='good+at'\n",
    "w2='傳統'\n",
    "\n",
    "Y_DICT_URL = 'https://tw.dictionary.search.yahoo.com/search?p='\n",
    "URLS=[]\n",
    "for i in range(w_num):\n",
    "    w=eval('w'+str(i))\n",
    "    URLS.append(Y_DICT_URL+w)\n",
    "    \n",
    "if __name__ == '__main__':\n",
    "    for URL in URLS:\n",
    "        print(URL)\n",
    "        resp = requests.get(URL, headers={'Referer': 'https://tw.dictionary.yahoo.com/dictionary?'})\n",
    "        if resp.status_code != 200:\n",
    "            print('Invalid url:', resp.url)\n",
    "        page=resp.text\n",
    "        if page:\n",
    "            soup = BeautifulSoup(page, 'html5lib')\n",
    "            for li in soup.find('div', 'p-rel').find_all('li'):\n",
    "                print(li.text)"
   ]
  },
  {
   "cell_type": "code",
   "execution_count": null,
   "id": "c004ef7d",
   "metadata": {},
   "outputs": [],
   "source": []
  }
 ],
 "metadata": {
  "kernelspec": {
   "display_name": "Python 3 (ipykernel)",
   "language": "python",
   "name": "python3"
  },
  "language_info": {
   "codemirror_mode": {
    "name": "ipython",
    "version": 3
   },
   "file_extension": ".py",
   "mimetype": "text/x-python",
   "name": "python",
   "nbconvert_exporter": "python",
   "pygments_lexer": "ipython3",
   "version": "3.8.10"
  }
 },
 "nbformat": 4,
 "nbformat_minor": 5
}

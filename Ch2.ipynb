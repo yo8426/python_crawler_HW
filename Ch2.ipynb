{
 "cells": [
  {
   "cell_type": "code",
   "execution_count": 157,
   "id": "99ec3426",
   "metadata": {},
   "outputs": [],
   "source": [
    "import requests\n",
    "from bs4 import BeautifulSoup"
   ]
  },
  {
   "cell_type": "code",
   "execution_count": 158,
   "id": "62cc8bf5",
   "metadata": {},
   "outputs": [
    {
     "name": "stdout",
     "output_type": "stream",
     "text": [
      "resp status: <Response [200]> \n",
      "\n",
      "Mac使用者\n",
      "給初學者的 Python 網頁爬蟲與資料分析\n",
      "給初學者的 Python 網頁爬蟲與資料分析\n",
      "給初學者的 Python 網頁爬蟲與資料分析\n",
      "給初學者的 Python 網頁爬蟲與資料分析\n",
      "給初學者的 Python 網頁爬蟲與資料分析\n",
      "6\n"
     ]
    }
   ],
   "source": [
    "#input url\n",
    "url1='http://blog.castman.net/web-crawler-tutorial/ch2/blog/blog.html'\n",
    "\n",
    "#get page status\n",
    "try:\n",
    "    resp = requests.get(url1)\n",
    "except:\n",
    "    resp = None\n",
    "print('resp status:',resp,'\\n')\n",
    "\n",
    "#get information\n",
    "if resp and resp.status_code == 200:\n",
    "    soup = BeautifulSoup(resp.text, 'html.parser')\n",
    "    if resp.status_code == 200:\n",
    "        \n",
    "        try:\n",
    "            titles = soup.find_all('h4')\n",
    "            i=0\n",
    "            for title in titles:\n",
    "                i=i+1\n",
    "                print(title.a.text)\n",
    "        except:\n",
    "            titles=None\n",
    "        print(i)"
   ]
  },
  {
   "cell_type": "code",
   "execution_count": 159,
   "id": "1dccd7c1",
   "metadata": {
    "scrolled": true
   },
   "outputs": [
    {
     "name": "stdout",
     "output_type": "stream",
     "text": [
      "resp status: <Response [200]> \n",
      "\n",
      "static/python_crawler.png\n",
      "static/python_crawler.png\n",
      "static/python_crawler.png\n",
      "static/python_crawler.png\n",
      "static/python_crawler.png\n",
      "5\n"
     ]
    }
   ],
   "source": [
    "#input url\n",
    "url1='http://blog.castman.net/web-crawler-tutorial/ch2/blog/blog.html'\n",
    "\n",
    "#get page status\n",
    "try:\n",
    "    resp = requests.get(url1)\n",
    "except:\n",
    "    resp = None\n",
    "print('resp status:',resp,'\\n')\n",
    "\n",
    "#get information\n",
    "if resp and resp.status_code == 200:\n",
    "    soup = BeautifulSoup(resp.text, 'html.parser')\n",
    "    if resp.status_code == 200:\n",
    "        \n",
    "        try:\n",
    "            imgs = soup.find_all('img')\n",
    "            img_count=0\n",
    "            for img in imgs:\n",
    "                if 'src' in img.attrs:\n",
    "                    if 'crawler' in img['src'] and img['src'].endswith('.png'):\n",
    "                        print(img['src'])\n",
    "                        img_count=img_count+1\n",
    "        except:\n",
    "            imgs=None\n",
    "print(img_count)"
   ]
  },
  {
   "cell_type": "code",
   "execution_count": 160,
   "id": "bbde273f",
   "metadata": {},
   "outputs": [
    {
     "name": "stdout",
     "output_type": "stream",
     "text": [
      "resp status: <Response [200]> \n",
      "\n",
      "初心者 - Python入門\n",
      "Python 網頁爬蟲入門實戰\n",
      "Python 機器學習入門實戰 (預計)\n",
      "Python 資料科學入門實戰 (預計)\n",
      "Python 資料視覺化入門實戰 (預計)\n",
      "Python 網站架設入門實戰 (預計)\n",
      "6\n"
     ]
    }
   ],
   "source": [
    "#input url\n",
    "url2='http://blog.castman.net/web-crawler-tutorial/ch2/table/table.html'\n",
    "\n",
    "#get page status\n",
    "try:\n",
    "    resp = requests.get(url2)\n",
    "except:\n",
    "    resp = None\n",
    "print('resp status:',resp,'\\n')\n",
    "\n",
    "#get information\n",
    "if resp and resp.status_code == 200:\n",
    "    soup = BeautifulSoup(resp.text, 'html.parser')\n",
    "    if resp.status_code == 200:\n",
    "        \n",
    "        try:\n",
    "            class_count = 0\n",
    "            rows = soup.find('table', 'table').tbody.find_all('tr')\n",
    "            for row in rows:\n",
    "                class_name = row.find_all('td')[0].text\n",
    "                class_count=class_count+1\n",
    "                print(class_name)\n",
    "        except:\n",
    "            rows=None\n",
    "print(class_count)"
   ]
  },
  {
   "cell_type": "code",
   "execution_count": 161,
   "id": "ec9b19be",
   "metadata": {},
   "outputs": [
    {
     "name": "stdout",
     "output_type": "stream",
     "text": [
      "resp status: <Response [200]> \n",
      "\n",
      "25個你不知道的身體冷知識\n",
      "這樣就叫有錢人喔\n",
      "台灣新生代女演員，最看好誰\n",
      "「清原」竟然這樣對待「客人」\n",
      "生日快樂送你禮物：分手^_^\n",
      "洗完澡不要馬上穿內褲！\n",
      "What’s in my home 法式浪漫2🌹\n",
      "日本女生的清新質感房間分享🌼\n",
      "給準大一們的一封信\n",
      "慾罷不能的 Cristina 的 鼻子⋯⋯⋯⋯（會暴雷大暴雷那種）\n"
     ]
    }
   ],
   "source": [
    "#input url\n",
    "url3='https://www.dcard.tw/f'\n",
    "\n",
    "#get page status\n",
    "try:\n",
    "    resp = requests.get(url3)\n",
    "except:\n",
    "    resp = None\n",
    "print('resp status:',resp,'\\n')\n",
    "\n",
    "#get information\n",
    "if resp and resp.status_code == 200:\n",
    "    soup = BeautifulSoup(resp.text, 'html.parser')\n",
    "    if resp.status_code == 200:\n",
    "        \n",
    "        try:\n",
    "            class_count = 0\n",
    "            titles = soup.find_all('h2')\n",
    "            for i in range(10):\n",
    "                print(titles[i].text)\n",
    "        except:\n",
    "            titles=None"
   ]
  },
  {
   "cell_type": "code",
   "execution_count": null,
   "id": "9b4ceccf",
   "metadata": {},
   "outputs": [],
   "source": []
  }
 ],
 "metadata": {
  "kernelspec": {
   "display_name": "Python 3",
   "language": "python",
   "name": "python3"
  },
  "language_info": {
   "codemirror_mode": {
    "name": "ipython",
    "version": 3
   },
   "file_extension": ".py",
   "mimetype": "text/x-python",
   "name": "python",
   "nbconvert_exporter": "python",
   "pygments_lexer": "ipython3",
   "version": "3.8.10"
  }
 },
 "nbformat": 4,
 "nbformat_minor": 5
}

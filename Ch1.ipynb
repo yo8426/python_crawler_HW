{
 "cells": [
  {
   "cell_type": "code",
   "execution_count": 3,
   "id": "b46fbaea",
   "metadata": {},
   "outputs": [
    {
     "name": "stdout",
     "output_type": "stream",
     "text": [
      "title: Pycone 松果城市 \n",
      "\n",
      "p: Python是非常強的的程式語言, 簡潔友好的語法特別容易上手, 又有許多第三方函式庫的支援。Python是完全物件導向的語言, 有益於減少程式碼的重複性。Python的設計哲學是優雅, 明確, 簡單。 Python的設計風格, 使其成為易讀, 易維護且具有廣泛用途的程式語言。Python的應用範圍相當廣泛, 例如web後端開發, 機器學習, 資料分析, 自然語言處理, 網頁爬蟲與遊戲等等。如果自己常常翻閱書籍卻無法掌握重點, 上網收集資料卻覺得太過片段, 想要自己動手寫寫看卻不知道如何開始。 這們課會從最基本的環境架設開始教起, 讓所有同學都可以深入淺出一窺Python的奧妙,更透過實務專題練習的方式,使學生可以應用課堂所學來完成一個Python軟體。 \n",
      "\n",
      "button: None\n"
     ]
    }
   ],
   "source": [
    "import requests\n",
    "from bs4 import BeautifulSoup\n",
    "#input url\n",
    "url='http://blog.castman.net/web-crawler-tutorial/ch1/connect.html'\n",
    "#get page status\n",
    "try:    \n",
    "    resp = requests.get(url)\n",
    "except:    \n",
    "    resp = Noneprint('resp status:',resp,'\\n')\n",
    "#get information\n",
    "if resp and resp.status_code == 200:    \n",
    "    soup = BeautifulSoup(resp.text, 'html.parser')    \n",
    "    try:        \n",
    "        title=soup.find('title').text    \n",
    "    except:        \n",
    "        title=None    \n",
    "    try:     \n",
    "        p=soup.find('p').text    \n",
    "    except:     \n",
    "        p=None\n",
    "    try:        \n",
    "        button=soup.find('button').text    \n",
    "    except:        \n",
    "        button=None\n",
    "print('title:',title,'\\n')\n",
    "print('p:',p,'\\n')\n",
    "print('button:',button)"
   ]
  },
  {
   "cell_type": "code",
   "execution_count": null,
   "id": "4f5a47a0",
   "metadata": {},
   "outputs": [],
   "source": []
  }
 ],
 "metadata": {
  "kernelspec": {
   "display_name": "Python 3",
   "language": "python",
   "name": "python3"
  },
  "language_info": {
   "codemirror_mode": {
    "name": "ipython",
    "version": 3
   },
   "file_extension": ".py",
   "mimetype": "text/x-python",
   "name": "python",
   "nbconvert_exporter": "python",
   "pygments_lexer": "ipython3",
   "version": "3.8.10"
  }
 },
 "nbformat": 4,
 "nbformat_minor": 5
}
